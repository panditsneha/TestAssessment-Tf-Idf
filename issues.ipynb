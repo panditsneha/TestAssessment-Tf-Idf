{
 "cells": [
  {
   "cell_type": "markdown",
   "id": "cf64c31a",
   "metadata": {},
   "source": [
    "### Importing libraries"
   ]
  },
  {
   "cell_type": "code",
   "execution_count": 1,
   "id": "fb7b94aa",
   "metadata": {},
   "outputs": [],
   "source": [
    "import pandas as pd\n",
    "import numpy as np\n",
    "from nltk.corpus import stopwords \n",
    "stop_words = set(stopwords.words('english'))\n",
    "import math"
   ]
  },
  {
   "cell_type": "markdown",
   "id": "83c76144",
   "metadata": {},
   "source": [
    "### Reading files"
   ]
  },
  {
   "cell_type": "code",
   "execution_count": 2,
   "id": "3576a832",
   "metadata": {},
   "outputs": [],
   "source": [
    "df = pd.read_csv('issues.csv')\n",
    "dummy = df"
   ]
  },
  {
   "cell_type": "markdown",
   "id": "ca763ab1",
   "metadata": {},
   "source": [
    "### Data cleaning an removing stopwords"
   ]
  },
  {
   "cell_type": "code",
   "execution_count": 3,
   "id": "dba4e6d8",
   "metadata": {},
   "outputs": [],
   "source": [
    "for i in range(100000):\n",
    "    dummy['Issue'][i] = dummy['Issue'][i].replace('/', ' ').replace(',', ' ').split()\n",
    "    for j in range(len(dummy['Issue'][i])):\n",
    "        dummy['Issue'][i][j] = dummy['Issue'][i][j].lower()"
   ]
  },
  {
   "cell_type": "code",
   "execution_count": 4,
   "id": "807e1365",
   "metadata": {},
   "outputs": [
    {
     "data": {
      "text/html": [
       "<div>\n",
       "<style scoped>\n",
       "    .dataframe tbody tr th:only-of-type {\n",
       "        vertical-align: middle;\n",
       "    }\n",
       "\n",
       "    .dataframe tbody tr th {\n",
       "        vertical-align: top;\n",
       "    }\n",
       "\n",
       "    .dataframe thead th {\n",
       "        text-align: right;\n",
       "    }\n",
       "</style>\n",
       "<table border=\"1\" class=\"dataframe\">\n",
       "  <thead>\n",
       "    <tr style=\"text-align: right;\">\n",
       "      <th></th>\n",
       "      <th>Issue</th>\n",
       "    </tr>\n",
       "  </thead>\n",
       "  <tbody>\n",
       "    <tr>\n",
       "      <th>0</th>\n",
       "      <td>[managing, the, loan, or, lease]</td>\n",
       "    </tr>\n",
       "    <tr>\n",
       "      <th>1</th>\n",
       "      <td>[using, a, debit, or, atm, card]</td>\n",
       "    </tr>\n",
       "    <tr>\n",
       "      <th>2</th>\n",
       "      <td>[account, opening, closing, or, management]</td>\n",
       "    </tr>\n",
       "    <tr>\n",
       "      <th>3</th>\n",
       "      <td>[deposits, and, withdrawals]</td>\n",
       "    </tr>\n",
       "    <tr>\n",
       "      <th>4</th>\n",
       "      <td>[loan, servicing, payments, escrow, account]</td>\n",
       "    </tr>\n",
       "    <tr>\n",
       "      <th>...</th>\n",
       "      <td>...</td>\n",
       "    </tr>\n",
       "    <tr>\n",
       "      <th>99995</th>\n",
       "      <td>[cont'd, attempts, collect, debt, not, owed]</td>\n",
       "    </tr>\n",
       "    <tr>\n",
       "      <th>99996</th>\n",
       "      <td>[cont'd, attempts, collect, debt, not, owed]</td>\n",
       "    </tr>\n",
       "    <tr>\n",
       "      <th>99997</th>\n",
       "      <td>[incorrect, information, on, credit, report]</td>\n",
       "    </tr>\n",
       "    <tr>\n",
       "      <th>99998</th>\n",
       "      <td>[loan, servicing, payments, escrow, account]</td>\n",
       "    </tr>\n",
       "    <tr>\n",
       "      <th>99999</th>\n",
       "      <td>[other]</td>\n",
       "    </tr>\n",
       "  </tbody>\n",
       "</table>\n",
       "<p>100000 rows × 1 columns</p>\n",
       "</div>"
      ],
      "text/plain": [
       "                                              Issue\n",
       "0                  [managing, the, loan, or, lease]\n",
       "1                  [using, a, debit, or, atm, card]\n",
       "2       [account, opening, closing, or, management]\n",
       "3                      [deposits, and, withdrawals]\n",
       "4      [loan, servicing, payments, escrow, account]\n",
       "...                                             ...\n",
       "99995  [cont'd, attempts, collect, debt, not, owed]\n",
       "99996  [cont'd, attempts, collect, debt, not, owed]\n",
       "99997  [incorrect, information, on, credit, report]\n",
       "99998  [loan, servicing, payments, escrow, account]\n",
       "99999                                       [other]\n",
       "\n",
       "[100000 rows x 1 columns]"
      ]
     },
     "execution_count": 4,
     "metadata": {},
     "output_type": "execute_result"
    }
   ],
   "source": [
    "dummy"
   ]
  },
  {
   "cell_type": "markdown",
   "id": "513f717c",
   "metadata": {},
   "source": [
    "### Dividing the dataset into two interations"
   ]
  },
  {
   "cell_type": "code",
   "execution_count": 5,
   "id": "76c069e5",
   "metadata": {},
   "outputs": [],
   "source": [
    "df1 = dummy[:50000]\n",
    "df2 = dummy[50000:]"
   ]
  },
  {
   "cell_type": "code",
   "execution_count": 6,
   "id": "8b38da20",
   "metadata": {},
   "outputs": [
    {
     "data": {
      "text/html": [
       "<div>\n",
       "<style scoped>\n",
       "    .dataframe tbody tr th:only-of-type {\n",
       "        vertical-align: middle;\n",
       "    }\n",
       "\n",
       "    .dataframe tbody tr th {\n",
       "        vertical-align: top;\n",
       "    }\n",
       "\n",
       "    .dataframe thead th {\n",
       "        text-align: right;\n",
       "    }\n",
       "</style>\n",
       "<table border=\"1\" class=\"dataframe\">\n",
       "  <thead>\n",
       "    <tr style=\"text-align: right;\">\n",
       "      <th></th>\n",
       "      <th>Issue</th>\n",
       "    </tr>\n",
       "  </thead>\n",
       "  <tbody>\n",
       "    <tr>\n",
       "      <th>50000</th>\n",
       "      <td>[incorrect, information, on, credit, report]</td>\n",
       "    </tr>\n",
       "    <tr>\n",
       "      <th>50001</th>\n",
       "      <td>[advertising, and, marketing]</td>\n",
       "    </tr>\n",
       "    <tr>\n",
       "      <th>50002</th>\n",
       "      <td>[loan, modification, collection, foreclosure]</td>\n",
       "    </tr>\n",
       "    <tr>\n",
       "      <th>50003</th>\n",
       "      <td>[loan, servicing, payments, escrow, account]</td>\n",
       "    </tr>\n",
       "    <tr>\n",
       "      <th>50004</th>\n",
       "      <td>[other, fee]</td>\n",
       "    </tr>\n",
       "    <tr>\n",
       "      <th>...</th>\n",
       "      <td>...</td>\n",
       "    </tr>\n",
       "    <tr>\n",
       "      <th>99995</th>\n",
       "      <td>[cont'd, attempts, collect, debt, not, owed]</td>\n",
       "    </tr>\n",
       "    <tr>\n",
       "      <th>99996</th>\n",
       "      <td>[cont'd, attempts, collect, debt, not, owed]</td>\n",
       "    </tr>\n",
       "    <tr>\n",
       "      <th>99997</th>\n",
       "      <td>[incorrect, information, on, credit, report]</td>\n",
       "    </tr>\n",
       "    <tr>\n",
       "      <th>99998</th>\n",
       "      <td>[loan, servicing, payments, escrow, account]</td>\n",
       "    </tr>\n",
       "    <tr>\n",
       "      <th>99999</th>\n",
       "      <td>[other]</td>\n",
       "    </tr>\n",
       "  </tbody>\n",
       "</table>\n",
       "<p>50000 rows × 1 columns</p>\n",
       "</div>"
      ],
      "text/plain": [
       "                                               Issue\n",
       "50000   [incorrect, information, on, credit, report]\n",
       "50001                  [advertising, and, marketing]\n",
       "50002  [loan, modification, collection, foreclosure]\n",
       "50003   [loan, servicing, payments, escrow, account]\n",
       "50004                                   [other, fee]\n",
       "...                                              ...\n",
       "99995   [cont'd, attempts, collect, debt, not, owed]\n",
       "99996   [cont'd, attempts, collect, debt, not, owed]\n",
       "99997   [incorrect, information, on, credit, report]\n",
       "99998   [loan, servicing, payments, escrow, account]\n",
       "99999                                        [other]\n",
       "\n",
       "[50000 rows x 1 columns]"
      ]
     },
     "execution_count": 6,
     "metadata": {},
     "output_type": "execute_result"
    }
   ],
   "source": [
    "df2"
   ]
  },
  {
   "cell_type": "markdown",
   "id": "78683207",
   "metadata": {},
   "source": [
    "### Storing the \"Issue\" items in list"
   ]
  },
  {
   "cell_type": "code",
   "execution_count": 7,
   "id": "3d3cb973",
   "metadata": {},
   "outputs": [],
   "source": [
    "term_lst1 = list(df1['Issue'])\n",
    "term_lst2 = list(df2['Issue'])"
   ]
  },
  {
   "cell_type": "markdown",
   "id": "828b0714",
   "metadata": {},
   "source": [
    "### Creating a function to remove stopwords"
   ]
  },
  {
   "cell_type": "code",
   "execution_count": 8,
   "id": "6c6bce87",
   "metadata": {},
   "outputs": [],
   "source": [
    "def wordcount(total_lst):\n",
    "    all_term = [i for lst in total_lst for i in lst if not i in stop_words]  \n",
    "    return all_term\n",
    "total_lst1 = list(set(wordcount(term_lst1)))\n",
    "total_lst2 = list(set(wordcount(term_lst2)))"
   ]
  },
  {
   "cell_type": "markdown",
   "id": "a37ce61c",
   "metadata": {},
   "source": [
    "### Making a dataframe for word count of each term in the given corpus"
   ]
  },
  {
   "cell_type": "code",
   "execution_count": 9,
   "id": "49de4c81",
   "metadata": {},
   "outputs": [],
   "source": [
    "def df_making(term,n,lst):\n",
    "    initial_lst = np.zeros([50000,n], dtype = int)\n",
    "    data = pd.DataFrame(initial_lst, columns=term)\n",
    "    \n",
    "    for i in range(50000):\n",
    "        l = lst[i]\n",
    "        for j in term:\n",
    "            if j in l:\n",
    "                data.iloc[i][j] = 1           \n",
    "    return data\n",
    "\n",
    "data1 = df_making(total_lst1,len(total_lst1),term_lst1)\n",
    "data2 = df_making(total_lst2,len(total_lst2),term_lst2)"
   ]
  },
  {
   "cell_type": "markdown",
   "id": "3f0a884f",
   "metadata": {},
   "source": [
    "### Calculating the idf score for each term"
   ]
  },
  {
   "cell_type": "markdown",
   "id": "be239b54",
   "metadata": {},
   "source": [
    "- **idf(t) = log(N/(df + 1))**\n",
    "   - idf(t) - inverse document frequency\n",
    "   - N - count of corpus\n",
    "   - df(t) - document frequency"
   ]
  },
  {
   "cell_type": "code",
   "execution_count": 10,
   "id": "b6893250",
   "metadata": {},
   "outputs": [],
   "source": [
    "def idf_score_calculation(terms,data):\n",
    "    lst=[]\n",
    "    idf_lst=[]\n",
    "    \n",
    "    # Calculating ocurrences of terms in the corpus\n",
    "    for i in terms:\n",
    "        s=0\n",
    "        for j in range(50000):\n",
    "            if data.iloc[j][i]==1:\n",
    "                s += 1\n",
    "        lst.append(s) \n",
    "        \n",
    "    #  Caculating Idf score      \n",
    "    N=50000\n",
    "    for i in lst:\n",
    "        idf_lst.append(math.log10(N / (float(i) + 1)))\n",
    "    return idf_lst\n",
    "    \n",
    "idf_score1 = idf_score_calculation(total_lst1,data1)\n",
    "idf_score2 = idf_score_calculation(total_lst2,data2)"
   ]
  },
  {
   "cell_type": "markdown",
   "id": "8d219ace",
   "metadata": {},
   "source": [
    "### Calculating the dataframe for the first and second interations"
   ]
  },
  {
   "cell_type": "code",
   "execution_count": 11,
   "id": "1a44e891",
   "metadata": {},
   "outputs": [],
   "source": [
    "df_inter1 = pd.DataFrame(list(zip(total_lst1, idf_score1)),columns =['Term', 'idf score - Interation1'])\n",
    "df_inter2 = pd.DataFrame(list(zip(total_lst2, idf_score2)),columns =['Term', 'idf score - Interation2'])"
   ]
  },
  {
   "cell_type": "markdown",
   "id": "70260863",
   "metadata": {},
   "source": [
    "### Merging the dataframe in the basis of \"Term\" column"
   ]
  },
  {
   "cell_type": "code",
   "execution_count": 12,
   "id": "22efcf10",
   "metadata": {},
   "outputs": [],
   "source": [
    "final_idf_data = pd.merge(df_inter1, df_inter2, on='Term', how='outer')"
   ]
  },
  {
   "cell_type": "code",
   "execution_count": 13,
   "id": "6d691c21",
   "metadata": {},
   "outputs": [
    {
     "data": {
      "text/html": [
       "<div>\n",
       "<style scoped>\n",
       "    .dataframe tbody tr th:only-of-type {\n",
       "        vertical-align: middle;\n",
       "    }\n",
       "\n",
       "    .dataframe tbody tr th {\n",
       "        vertical-align: top;\n",
       "    }\n",
       "\n",
       "    .dataframe thead th {\n",
       "        text-align: right;\n",
       "    }\n",
       "</style>\n",
       "<table border=\"1\" class=\"dataframe\">\n",
       "  <thead>\n",
       "    <tr style=\"text-align: right;\">\n",
       "      <th></th>\n",
       "      <th>Term</th>\n",
       "      <th>idf score - Interation1</th>\n",
       "      <th>idf score - Interation2</th>\n",
       "    </tr>\n",
       "  </thead>\n",
       "  <tbody>\n",
       "    <tr>\n",
       "      <th>0</th>\n",
       "      <td>fees</td>\n",
       "      <td>2.309804</td>\n",
       "      <td>2.275724</td>\n",
       "    </tr>\n",
       "    <tr>\n",
       "      <th>1</th>\n",
       "      <td>missing</td>\n",
       "      <td>3.494850</td>\n",
       "      <td>3.468521</td>\n",
       "    </tr>\n",
       "    <tr>\n",
       "      <th>2</th>\n",
       "      <td>originator</td>\n",
       "      <td>1.710411</td>\n",
       "      <td>1.699405</td>\n",
       "    </tr>\n",
       "    <tr>\n",
       "      <th>3</th>\n",
       "      <td>repaying</td>\n",
       "      <td>2.333482</td>\n",
       "      <td>NaN</td>\n",
       "    </tr>\n",
       "    <tr>\n",
       "      <th>4</th>\n",
       "      <td>problems</td>\n",
       "      <td>1.647432</td>\n",
       "      <td>1.580705</td>\n",
       "    </tr>\n",
       "    <tr>\n",
       "      <th>...</th>\n",
       "      <td>...</td>\n",
       "      <td>...</td>\n",
       "      <td>...</td>\n",
       "    </tr>\n",
       "    <tr>\n",
       "      <th>165</th>\n",
       "      <td>sharing</td>\n",
       "      <td>1.721704</td>\n",
       "      <td>1.786217</td>\n",
       "    </tr>\n",
       "    <tr>\n",
       "      <th>166</th>\n",
       "      <td>order</td>\n",
       "      <td>NaN</td>\n",
       "      <td>4.000000</td>\n",
       "    </tr>\n",
       "    <tr>\n",
       "      <th>167</th>\n",
       "      <td>exchange</td>\n",
       "      <td>NaN</td>\n",
       "      <td>4.000000</td>\n",
       "    </tr>\n",
       "    <tr>\n",
       "      <th>168</th>\n",
       "      <td>dispute</td>\n",
       "      <td>NaN</td>\n",
       "      <td>4.221849</td>\n",
       "    </tr>\n",
       "    <tr>\n",
       "      <th>169</th>\n",
       "      <td>practices</td>\n",
       "      <td>NaN</td>\n",
       "      <td>3.853872</td>\n",
       "    </tr>\n",
       "  </tbody>\n",
       "</table>\n",
       "<p>170 rows × 3 columns</p>\n",
       "</div>"
      ],
      "text/plain": [
       "           Term  idf score - Interation1  idf score - Interation2\n",
       "0          fees                 2.309804                 2.275724\n",
       "1       missing                 3.494850                 3.468521\n",
       "2    originator                 1.710411                 1.699405\n",
       "3      repaying                 2.333482                      NaN\n",
       "4      problems                 1.647432                 1.580705\n",
       "..          ...                      ...                      ...\n",
       "165     sharing                 1.721704                 1.786217\n",
       "166       order                      NaN                 4.000000\n",
       "167    exchange                      NaN                 4.000000\n",
       "168     dispute                      NaN                 4.221849\n",
       "169   practices                      NaN                 3.853872\n",
       "\n",
       "[170 rows x 3 columns]"
      ]
     },
     "execution_count": 13,
     "metadata": {},
     "output_type": "execute_result"
    }
   ],
   "source": [
    "final_idf_data"
   ]
  },
  {
   "cell_type": "markdown",
   "id": "e024ef1a",
   "metadata": {},
   "source": [
    "### Saving the csv file"
   ]
  },
  {
   "cell_type": "code",
   "execution_count": 14,
   "id": "463c58e4",
   "metadata": {},
   "outputs": [],
   "source": [
    "final_idf_data.to_csv('idf_score_csv_file.csv')"
   ]
  }
 ],
 "metadata": {
  "kernelspec": {
   "display_name": "Python 3 (ipykernel)",
   "language": "python",
   "name": "python3"
  },
  "language_info": {
   "codemirror_mode": {
    "name": "ipython",
    "version": 3
   },
   "file_extension": ".py",
   "mimetype": "text/x-python",
   "name": "python",
   "nbconvert_exporter": "python",
   "pygments_lexer": "ipython3",
   "version": "3.9.7"
  }
 },
 "nbformat": 4,
 "nbformat_minor": 5
}
